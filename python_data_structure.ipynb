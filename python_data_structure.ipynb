{
 "cells": [
  {
   "cell_type": "code",
   "execution_count": 1,
   "id": "3e68088f-0ba5-4680-b050-2a60c1dc1f74",
   "metadata": {},
   "outputs": [
    {
     "data": {
      "text/plain": [
       "'erutcurtS ataD'"
      ]
     },
     "execution_count": 1,
     "metadata": {},
     "output_type": "execute_result"
    }
   ],
   "source": [
    "# write a code to reverse a string\n",
    "name = \"Data Structure\"\n",
    "name[::-1]"
   ]
  },
  {
   "cell_type": "code",
   "execution_count": 2,
   "id": "954ffb7b-b1eb-40aa-a816-a29ad841458e",
   "metadata": {},
   "outputs": [
    {
     "name": "stdout",
     "output_type": "stream",
     "text": [
      "5\n"
     ]
    }
   ],
   "source": [
    "#write code to count the number of vowels in a string\n",
    "string = \"data structure\"\n",
    "vowels = \"aeiou\"\n",
    "def count_vowels(string):\n",
    "    count = 0\n",
    "    for i in string:\n",
    "        if i in vowels:\n",
    "            count += 1\n",
    "    return count\n",
    "print(count_vowels(string))"
   ]
  },
  {
   "cell_type": "code",
   "execution_count": 3,
   "id": "579a9151-351b-4d52-b880-7fdb0ad47318",
   "metadata": {},
   "outputs": [
    {
     "name": "stdout",
     "output_type": "stream",
     "text": [
      "level : is a palindrome\n"
     ]
    }
   ],
   "source": [
    "# write a code to check if a given string is a palindrome or not\n",
    "string = \"level\"\n",
    "if string == string[::-1]:\n",
    "    print(f\"{string} : is a palindrome\")\n",
    "else: print(f\"{string} : is not a palindrome\")    "
   ]
  },
  {
   "cell_type": "code",
   "execution_count": 4,
   "id": "0b2db4c4-a2c9-4071-9a5b-4f77be6af735",
   "metadata": {},
   "outputs": [
    {
     "name": "stdout",
     "output_type": "stream",
     "text": [
      "bear and bare are anagrams\n"
     ]
    }
   ],
   "source": [
    "#write a code to check if two given string are anagrams of each other\n",
    "def check(string1,string2):\n",
    "    sort_string1 = sorted(string1.lower())\n",
    "    sort_string2 = sorted(string2.lower())\n",
    "    list1=[]\n",
    "    list2=[]\n",
    "    for i in sort_string1:\n",
    "        list1.append(i)\n",
    "    for i in sort_string2:\n",
    "        list2.append(i) \n",
    "    if list1 == list2:\n",
    "        print(f\"{string1} and {string2} are anagrams\")\n",
    "    else: print(f\"{string1} and {string2} are not anagrams\")    \n",
    "        \n",
    "name1 = \"bear\"  \n",
    "name2 = \"bare\"\n",
    "check(name1, name2) \n"
   ]
  },
  {
   "cell_type": "code",
   "execution_count": 2,
   "id": "f7cf3c1a-ce9c-4393-9df9-404e973bc6a0",
   "metadata": {},
   "outputs": [
    {
     "name": "stdout",
     "output_type": "stream",
     "text": [
      "[8, 26]\n"
     ]
    }
   ],
   "source": [
    "# write a code to find all occurrence of a given substring within another string   \n",
    "\n",
    "text = \"this is my assignment and my code\"\n",
    "substring = \"my\"\n",
    "\n",
    "indices = []\n",
    "\n",
    "start = 0\n",
    "\n",
    "while True:\n",
    "    index = text.find(substring, start)\n",
    "    if index == -1:\n",
    "        break\n",
    "    indices.append(index)\n",
    "    start = index + len(substring)\n",
    "\n",
    "print(indices)    \n",
    "\n"
   ]
  },
  {
   "cell_type": "code",
   "execution_count": 1,
   "id": "23e76d70-3bff-4338-a77f-c9208d056b8e",
   "metadata": {},
   "outputs": [
    {
     "name": "stdout",
     "output_type": "stream",
     "text": [
      "a4b4c4d4e5\n"
     ]
    }
   ],
   "source": [
    "# write a code to perform basic string compression using the counts of repeated character\n",
    "\n",
    "text = \"aaaabbbbccccddddeeeee\"\n",
    "\n",
    "lis = []\n",
    "count  = 1\n",
    "for i in range(1,len(text)):\n",
    "    if text[i] == text[i-1]:\n",
    "        count += 1\n",
    "    else: \n",
    "        lis.append(text[i-1] + str(count))\n",
    "        count = 1\n",
    "        \n",
    "lis.append(text[-1] + str(count))   \n",
    "\n",
    "compresed_string = \"\".join(lis)\n",
    "\n",
    "print(compresed_string)\n",
    "\n",
    "\n"
   ]
  },
  {
   "cell_type": "code",
   "execution_count": 41,
   "id": "5b3d4e9d-21d3-4bd7-b5ea-025918f39f02",
   "metadata": {},
   "outputs": [
    {
     "name": "stdout",
     "output_type": "stream",
     "text": [
      "abcd, has all unique characters\n"
     ]
    }
   ],
   "source": [
    "# write a code to determine if a string has all unique characters\n",
    "string = \"abcd\"\n",
    "set_str = len(set(string))\n",
    "if set_str == len(string):\n",
    "    print(f\"{string}, has all unique characters\")\n",
    "else:print(f\"{string}, has same characters\")    "
   ]
  },
  {
   "cell_type": "code",
   "execution_count": 19,
   "id": "b210b6fa-952d-45a7-b36e-4058eee84cb4",
   "metadata": {},
   "outputs": [
    {
     "name": "stdout",
     "output_type": "stream",
     "text": [
      "DATA STRUCTURE\n",
      "data structure\n"
     ]
    }
   ],
   "source": [
    "# write a code to convert a given string to uppercase or lowercase\n",
    "def uppercase(string):\n",
    "    upper_str = string.upper()\n",
    "    return upper_str\n",
    "def lowercase(string):\n",
    "    lower_str = string.lower()\n",
    "    return lower_str\n",
    "print(uppercase(\"DATA structure\"))\n",
    "print(lowercase(\"DATA structure\"))"
   ]
  },
  {
   "cell_type": "code",
   "execution_count": 20,
   "id": "2162f89a-27b4-4af3-b71d-45bcae213109",
   "metadata": {},
   "outputs": [
    {
     "name": "stdout",
     "output_type": "stream",
     "text": [
      "{'a': 2, 'd': 1, 't': 1}\n"
     ]
    }
   ],
   "source": [
    "# write a code to count the number of words in a string\n",
    "def count_words(string):\n",
    "    word_dict = {}\n",
    "    for i in sorted(string):\n",
    "        if i in word_dict:\n",
    "            word_dict[i] += 1\n",
    "        else: word_dict[i] = 1\n",
    "    return word_dict\n",
    "print(count_words(\"data\"))"
   ]
  },
  {
   "cell_type": "code",
   "execution_count": 21,
   "id": "3b621d94-305b-4d17-9316-217a088bbf7d",
   "metadata": {},
   "outputs": [
    {
     "name": "stdout",
     "output_type": "stream",
     "text": [
      "datastructure\n"
     ]
    }
   ],
   "source": [
    "# write a code to concatenate two string without using the + operator\n",
    "string_1 = \"data\"\n",
    "string_2 = \"structure\"\n",
    "concate_string = \"\"\n",
    "for i in string_1:\n",
    "    concate_string += i\n",
    "for i in string_2:\n",
    "    concate_string += i\n",
    "print(concate_string)\n",
    "    "
   ]
  },
  {
   "cell_type": "code",
   "execution_count": 22,
   "id": "1d165882-f593-4e5c-ae25-21baeee1f1d2",
   "metadata": {},
   "outputs": [
    {
     "name": "stdout",
     "output_type": "stream",
     "text": [
      "[1, 3, 4, 5, 6]\n"
     ]
    }
   ],
   "source": [
    "# write a code to remove all occurrences of a specific element from a list\n",
    "\n",
    "lis = [1,2,3,2,4,5,6]\n",
    "remove_element = 2\n",
    "new_list = []\n",
    "for i in lis:\n",
    "    if i != remove_element:\n",
    "        new_list.append(i)\n",
    "print(new_list)        \n",
    "\n"
   ]
  },
  {
   "cell_type": "code",
   "execution_count": 23,
   "id": "2798c585-8a6d-4744-918e-13a9d47c4123",
   "metadata": {},
   "outputs": [
    {
     "name": "stdout",
     "output_type": "stream",
     "text": [
      "97\n"
     ]
    }
   ],
   "source": [
    "# Implentent a code to find the second largest number in a given list of integers\n",
    "lists = [23,56,43,7,6,99,45,97]\n",
    "sort_list = sorted(lists)\n",
    "print(sort_list[-2])\n"
   ]
  },
  {
   "cell_type": "code",
   "execution_count": 24,
   "id": "68c3ff2f-21b2-4bee-beaf-2583aedc6a71",
   "metadata": {},
   "outputs": [
    {
     "name": "stdout",
     "output_type": "stream",
     "text": [
      "{1: 3, 2: 2, 3: 5, 5: 2, 4: 1, 6: 2}\n"
     ]
    }
   ],
   "source": [
    "# Create a code to count the occurrences of each element in a list and return a dictionary with elements as key and their counts as a value\n",
    "\n",
    "lis = [1,1,1,2,2,3,3,3,3,3,5,5,4,6,6]\n",
    "new_dic = {}\n",
    "for i in lis:\n",
    "    if i in new_dic:\n",
    "        new_dic[i] += 1\n",
    "    else: new_dic[i] = 1    \n",
    "    \n",
    "print(new_dic)    \n",
    "\n",
    "\n"
   ]
  },
  {
   "cell_type": "code",
   "execution_count": 25,
   "id": "992416b7-5c07-445d-9ecf-e3ed6de7a456",
   "metadata": {},
   "outputs": [
    {
     "name": "stdout",
     "output_type": "stream",
     "text": [
      "['g', 'f', 'e', 'd', 'c', 'b', 'a']\n"
     ]
    }
   ],
   "source": [
    "# write a code to reverse a list in place without using any built in reverse function\n",
    "lis = ['a','b','c','d','e','f','g']\n",
    "left = 0\n",
    "right = len(lis) - 1\n",
    "while left < right:\n",
    "    lis[left] , lis[right] = lis[right] , lis[left]\n",
    "    left += 1\n",
    "    right -= 1\n",
    "print(lis)    "
   ]
  },
  {
   "cell_type": "code",
   "execution_count": 26,
   "id": "104e56c2-529a-4a93-ae6d-d13c4a1c1eba",
   "metadata": {},
   "outputs": [
    {
     "name": "stdout",
     "output_type": "stream",
     "text": [
      "[1, 2, 3, 4]\n"
     ]
    }
   ],
   "source": [
    "# Implement a code to find and remove duplicates from a list while preserving the original order of elements\n",
    "\n",
    "lis = [1, 2, 2, 3, 1, 4]\n",
    "unique_list = []\n",
    "s = set()\n",
    "for element in lis:\n",
    "    if element not in s:\n",
    "        unique_list.append(element)\n",
    "        s.add(element)\n",
    "print(unique_list)  "
   ]
  },
  {
   "cell_type": "code",
   "execution_count": 27,
   "id": "faeb9c63-e6b7-4f08-bdf0-a257288ef1db",
   "metadata": {},
   "outputs": [
    {
     "name": "stdout",
     "output_type": "stream",
     "text": [
      "False\n",
      "False\n"
     ]
    }
   ],
   "source": [
    "# Create a code to check if a given list is sorted (either in ascending or descending order) or not\n",
    "lst = []\n",
    "ascending = False\n",
    "descending = False\n",
    "for i in range(1,len(lst)):\n",
    "    lst[i] < list[i - 1]\n",
    "print(ascending)\n",
    "print(descending)"
   ]
  },
  {
   "cell_type": "code",
   "execution_count": 28,
   "id": "0ef4d825-5c79-471d-adb8-e539e853aacb",
   "metadata": {},
   "outputs": [
    {
     "name": "stdout",
     "output_type": "stream",
     "text": [
      "[1, 2, 3, 4, 4, 4, 5, 6, 6, 6, 7, 8, 9, 10]\n"
     ]
    }
   ],
   "source": [
    "# write a code to merge two sorted lists into a single sorted list\n",
    "list1 = [1, 3, 5, 7,4,6,]\n",
    "list2 = [2, 4, 6, 8,9,10,4,6]\n",
    "merge_list = sorted(list1) + sorted(list2)\n",
    "sort_merge_list = sorted(merge_list)\n",
    "print(sort_merge_list)"
   ]
  },
  {
   "cell_type": "code",
   "execution_count": 29,
   "id": "ec5bdfdd-4541-487d-a885-19af873e449f",
   "metadata": {},
   "outputs": [
    {
     "name": "stdout",
     "output_type": "stream",
     "text": [
      "[2, 3, 4, 5]\n"
     ]
    }
   ],
   "source": [
    "# Implement a code to find the intersection of two given list\n",
    "\n",
    "list_1 = [1,2,3,4,5,2]\n",
    "list_2 = [0,4,5,6,7,3,2]\n",
    "intersection_list = []\n",
    "for i in list_1:\n",
    "        if i in list_2:\n",
    "            intersection_list.append(i)\n",
    "            list_2.remove(i)\n",
    "print(intersection_list)  \n",
    "  "
   ]
  },
  {
   "cell_type": "code",
   "execution_count": 30,
   "id": "32338fd0-7534-497b-b96a-4885f6538b24",
   "metadata": {},
   "outputs": [
    {
     "name": "stdout",
     "output_type": "stream",
     "text": [
      "[1, 2, 3]\n"
     ]
    }
   ],
   "source": [
    "# Create a code to find the intersection of two lists without duplicates\n",
    "list_1 = [1,2,3,4,5,2]\n",
    "list_2 = [1,2,9,3,8,2]\n",
    "\n",
    "intersection_set = set(list_1) & set(list_2)\n",
    "\n",
    "intersection_list = list(intersection_set)\n",
    "print(intersection_list)  "
   ]
  },
  {
   "cell_type": "code",
   "execution_count": 31,
   "id": "0cbafcc1-994a-4a64-8a01-d999452b8db3",
   "metadata": {},
   "outputs": [
    {
     "name": "stdout",
     "output_type": "stream",
     "text": [
      "[4, 1, 3, 5, 2]\n"
     ]
    }
   ],
   "source": [
    "# write a code to shuffle a given list randomly without using any built in shuffle functions\n",
    "import random\n",
    "lis = [1, 2, 3, 4, 5]\n",
    "a = random.sample(lis, len(lis))\n",
    "\n",
    "print(a)"
   ]
  },
  {
   "cell_type": "code",
   "execution_count": 32,
   "id": "a86aca49-d3cb-4cac-9dcc-5d070239e311",
   "metadata": {},
   "outputs": [
    {
     "name": "stdout",
     "output_type": "stream",
     "text": [
      "(4, 5)\n"
     ]
    }
   ],
   "source": [
    "# write a code to that takes two tuples as input and return a new tuple containing elements that are common to both input tuples\n",
    "\n",
    "def common_tuple(tuple_1, tuple_2):\n",
    "    new_list = []\n",
    "    list_1 = list(tuple_1)\n",
    "    list_2 = list(tuple_2)\n",
    "    for i in list_1:\n",
    "        if i in list_2:\n",
    "            new_list.append(i)\n",
    "    return tuple(new_list)\n",
    "tuple_1 = (1,2,3,4,5)\n",
    "tuple_2 = (4,5,6,7,8)\n",
    "result = common_tuple(tuple_1, tuple_2)\n",
    "print(result)"
   ]
  },
  {
   "cell_type": "code",
   "execution_count": 33,
   "id": "15647be9-1c41-44fe-9ca6-70bcd4cccaf0",
   "metadata": {},
   "outputs": [
    {
     "name": "stdin",
     "output_type": "stream",
     "text": [
      "enter set_1 integers seperate by commas : 1,2,3,5,5\n",
      "enter set_2 integers seperate by commas : 3,5,6,7,9\n"
     ]
    },
    {
     "data": {
      "text/plain": [
       "{3, 5}"
      ]
     },
     "execution_count": 33,
     "metadata": {},
     "output_type": "execute_result"
    }
   ],
   "source": [
    "# Create a code that prompts the user to enter two sets of integers separated by commas then, print the intersection of these two sets \n",
    "\n",
    "def set_intersec(set_input_1, set_input_2):\n",
    "    \n",
    "    list_1 = set_input_1.split(\",\")\n",
    "    list_2 = set_input_2.split(\",\")\n",
    "    \n",
    "    set_1 = {int(i) for i in list_1}\n",
    "    set_2 = {int(i) for i in list_2}\n",
    "    \n",
    "    intersection = set_1 & set_2\n",
    "    \n",
    "    return intersection\n",
    "\n",
    "set_input_1 = input(\"enter set_1 integers seperate by commas :\")\n",
    "set_input_2 = input(\"enter set_2 integers seperate by commas :\")\n",
    "\n",
    "set_intersec(set_input_1, set_input_2)"
   ]
  },
  {
   "cell_type": "code",
   "execution_count": 34,
   "id": "006c4d57-00e8-4479-866e-e12a9a19d4fe",
   "metadata": {},
   "outputs": [
    {
     "name": "stdout",
     "output_type": "stream",
     "text": [
      "(1, 2, 3, 4, 5, 6, 7, 8, 9, 10)\n"
     ]
    }
   ],
   "source": [
    "# write a code to conctenate two tuples. the function should take two tuple as input and return a new tuple containing elements from both input tuples\n",
    "def concat_tuple(tuple_1, tuple_2):\n",
    "    return tuple_1 + tuple_2\n",
    "\n",
    "\n",
    "\n",
    "tuple_1 = (1,2,3,4,5)\n",
    "tuple_2 = (6,7,8,9,10)\n",
    "result = concat_tuple(tuple_1, tuple_2)\n",
    "print(result)"
   ]
  },
  {
   "cell_type": "code",
   "execution_count": 2,
   "id": "67266500-0b02-4522-b0c1-0b4d297132f8",
   "metadata": {},
   "outputs": [
    {
     "name": "stdin",
     "output_type": "stream",
     "text": [
      "enter set_1 elements 1,2,4,5,6\n",
      "enter set_2 elements 4,5,7,3,5\n"
     ]
    },
    {
     "name": "stdout",
     "output_type": "stream",
     "text": [
      "{'1', '2', '6'}\n"
     ]
    }
   ],
   "source": [
    "# Develop a code that prompts the user to input two sets of strings then, print the elements that are present in the first set but not in the second set\n",
    "\n",
    "def difference(input_1, input_2):\n",
    "    \n",
    "    set_1 = set(input_1.split(\",\"))\n",
    "    set_2 = set(input_2.split(\",\"))\n",
    "    \n",
    "    difference = set_1 - set_2\n",
    "    \n",
    "    return difference\n",
    "\n",
    "input_1 = input(\"enter set_1 elements\")\n",
    "input_2 = input(\"enter set_2 elements\")\n",
    "\n",
    "result = difference(input_1, input_2)\n",
    "print(result)\n"
   ]
  },
  {
   "cell_type": "code",
   "execution_count": 36,
   "id": "9b40bf78-2061-400c-9259-c5926c75001c",
   "metadata": {},
   "outputs": [
    {
     "name": "stdout",
     "output_type": "stream",
     "text": [
      "(3, 4, 5, 6)\n"
     ]
    }
   ],
   "source": [
    "# Create a code that takes a tuple and two integers as input. the function should return a new tuple containing elements from the original tuple within the specified range of indices\n",
    "\n",
    "def main(tuples, start_index, end_index):\n",
    "    \n",
    "    return tuples[start_index:end_index]\n",
    "\n",
    "tuples = (1,2,3,4,5,6,7,8,9)\n",
    "start_index = 2\n",
    "end_index = 6\n",
    "\n",
    "result = main(tuples, start_index, end_index)\n",
    "print(result)\n"
   ]
  },
  {
   "cell_type": "code",
   "execution_count": 37,
   "id": "ac95094c-c98f-4868-9393-d6c612d4fdd6",
   "metadata": {},
   "outputs": [
    {
     "name": "stdin",
     "output_type": "stream",
     "text": [
      "enter set_1 values 2,34,34\n",
      "enter set_2 values 2,434,53\n"
     ]
    },
    {
     "name": "stdout",
     "output_type": "stream",
     "text": [
      "{'34', '2', '434', '53'}\n"
     ]
    }
   ],
   "source": [
    "# write a code that prompts the user to input two sets of characters then print the union of these two sets\n",
    "\n",
    "def union(input_1, input_2):\n",
    "    set_1 = set(input_1.split(\",\"))\n",
    "    set_2 = set(input_2.split(\",\"))\n",
    "    union = set_1 | set_2\n",
    "    return union\n",
    "\n",
    "input_1 = input(\"enter set_1 values\")\n",
    "input_2 = input(\"enter set_2 values\")\n",
    "\n",
    "result = union(input_1, input_2)\n",
    "print(result)"
   ]
  },
  {
   "cell_type": "code",
   "execution_count": 38,
   "id": "7dc4586f-041b-4da3-903b-c6416f6759f1",
   "metadata": {},
   "outputs": [
    {
     "name": "stdout",
     "output_type": "stream",
     "text": [
      "maximum value in tuple is: 1\n",
      "minimum value in tuple is: 99\n"
     ]
    }
   ],
   "source": [
    "# Develop a code that takes a tuple of integer as input. the function should return the maximum and minimum values from the tuple using tuple unpacking\n",
    "\n",
    "def max_min(tupl):\n",
    "    \n",
    "    max_value = max(tupl)\n",
    "    min_value = min(tupl)\n",
    "    \n",
    "    return max_value, min_value\n",
    "\n",
    "tupl = (1,6,4,3,97,54,23,45,99)\n",
    "\n",
    "min_value, max_value = max_min(tupl)\n",
    "print(\"maximum value in tuple is:\",max_value)\n",
    "print(\"minimum value in tuple is:\",min_value)"
   ]
  },
  {
   "cell_type": "code",
   "execution_count": 39,
   "id": "86f9722b-e5e6-41b5-aef6-fef81c5499b1",
   "metadata": {},
   "outputs": [
    {
     "name": "stdout",
     "output_type": "stream",
     "text": [
      "{1, 2, 3, 4, 5}\n",
      "{4, 5, 6, 7, 8}\n",
      "union of set_1 and set_2 is :{1, 2, 3, 4, 5, 6, 7, 8}\n",
      "intersection of set_1 and set_2 is :{4, 5}\n",
      "difference of set_1 and set_2 is :{1, 2, 3}\n"
     ]
    }
   ],
   "source": [
    "# Create a code that defines two sets of integers. then, print the union, intersection, and difference of these two sets \n",
    "\n",
    "set_1 = {1,2,3,4,5}\n",
    "set_2 = {4,5,6,7,8}\n",
    "\n",
    "union = set_1 | set_2\n",
    "\n",
    "intersection = set_1 & set_2\n",
    "\n",
    "difference = set_1 - set_2\n",
    "\n",
    "\n",
    "print(set_1)\n",
    "print(set_2)\n",
    "print(f\"union of set_1 and set_2 is :{union}\")\n",
    "print(f\"intersection of set_1 and set_2 is :{intersection}\")\n",
    "print(f\"difference of set_1 and set_2 is :{difference}\")\n"
   ]
  },
  {
   "cell_type": "code",
   "execution_count": 40,
   "id": "5b379192-5b86-4c85-8b84-db238a85da03",
   "metadata": {},
   "outputs": [
    {
     "name": "stdout",
     "output_type": "stream",
     "text": [
      "The element 5 occurs 3 times in the tuple.\n"
     ]
    }
   ],
   "source": [
    "# write a code that takes a tuple and an element as input. the function should return the count of occurrences of the given element in the tuple\n",
    "\n",
    "def count(tupl, element):\n",
    "    return tupl.count(element)\n",
    "\n",
    "tupl = (1,2,3,4,5,6,2,3,8,7,5,7,9,3,5,6,8)\n",
    "element = 5\n",
    "result = count(tupl, element)\n",
    "print(f\"The element {element} occurs {result} times in the tuple.\")"
   ]
  },
  {
   "cell_type": "code",
   "execution_count": 42,
   "id": "38de938c-de21-45c7-be73-c23e382b8154",
   "metadata": {},
   "outputs": [
    {
     "name": "stdin",
     "output_type": "stream",
     "text": [
      "enter set_1 values 4,4,5,5,5,2,44,5\n",
      "enter set_2 values 43,545,43,534,54,34,\n"
     ]
    },
    {
     "name": "stdout",
     "output_type": "stream",
     "text": [
      "the symmetric difference of set_1 and set_2 is : {'', '534', '34', '44', '5', '54', '4', '545', '43', '2'}\n"
     ]
    }
   ],
   "source": [
    "# Develop a code that prompts the user to input two sets of string. then, print the symmetric difference of these two sets\n",
    "\n",
    "def symmetric_difference(input_1, input_2):\n",
    "    set_1 = set(input_1.split(\",\"))\n",
    "    set_2 = set(input_2.split(\",\"))\n",
    "    \n",
    "    return set_1 ^ set_2\n",
    "\n",
    "input_1 = input(\"enter set_1 values\")\n",
    "input_2 = input(\"enter set_2 values\")\n",
    "\n",
    "result = symmetric_difference(input_1, input_2)\n",
    "print(f\"the symmetric difference of set_1 and set_2 is : {result}\")"
   ]
  },
  {
   "cell_type": "code",
   "execution_count": 1,
   "id": "92a441e7-3a5b-42c2-b6eb-f749e5421b28",
   "metadata": {},
   "outputs": [
    {
     "name": "stdout",
     "output_type": "stream",
     "text": [
      "{'apple': 3, 'banana': 2, 'orange': 1}\n"
     ]
    }
   ],
   "source": [
    "# write a code that takes a list of words as input and returns a dictionary where the keys are unique words and the values are the frequencies of those words in the input lists\n",
    "def frequency(lis):\n",
    "    dic = {}\n",
    "    for i in lis:\n",
    "        if i in dic:\n",
    "            dic[i] += 1\n",
    "        else: dic[i] = 1\n",
    "    return dic    \n",
    "\n",
    "lis = [\"apple\", \"banana\", \"apple\", \"orange\", \"banana\", \"apple\"]\n",
    "frequency = frequency(lis)\n",
    "\n",
    "print(frequency)"
   ]
  },
  {
   "cell_type": "code",
   "execution_count": 16,
   "id": "b821437e-b441-4ec5-a9df-d95a7aef7721",
   "metadata": {},
   "outputs": [
    {
     "name": "stdout",
     "output_type": "stream",
     "text": [
      "{'a': 1, 'b': 5, 'c': 7, 'd': 5}\n"
     ]
    }
   ],
   "source": [
    "# write a code that takes two dictionaries as input and merges them into a single dictionary. if there are common keys, the values should be added together\n",
    "\n",
    "def mergee(dict1, dict2):\n",
    "    merge_dict = {}\n",
    "    \n",
    "    for key, value in dict1.items():\n",
    "        merge_dict[key] = value\n",
    "        \n",
    "    for key, value in dict2.items():\n",
    "        if key in merge_dict:\n",
    "            merge_dict[key] += value\n",
    "        else: merge_dict[key] = value\n",
    "    return merge_dict\n",
    "\n",
    "dict1 = {'a': 1, 'b': 2, 'c': 3}\n",
    "dict2 = {'b': 3, 'c': 4, 'd': 5}\n",
    "\n",
    "new_dict = mergee(dict1, dict2)\n",
    "\n",
    "print(new_dict)"
   ]
  },
  {
   "cell_type": "code",
   "execution_count": 28,
   "id": "cbc365c5-113d-44cd-93a1-a70fbcb258b1",
   "metadata": {},
   "outputs": [
    {
     "name": "stdout",
     "output_type": "stream",
     "text": [
      "heyyyyyy :  {'a': {'b': {'c': 42}}}\n",
      "{'b': {'c': 42}}\n",
      "{'c': 42}\n",
      "42\n",
      "the result  of ['a', 'b', 'c'] is :  42\n"
     ]
    }
   ],
   "source": [
    "# write a code to access a value in a nested dictionary. the function should take the dictionary and a list of keys as input, and return the corresponding value.if any keys do not exist in the dictionary, the function should return none \n",
    "\n",
    "def nested(dic, keys):\n",
    "    \n",
    "    new_dict = dic.copy()\n",
    "    print(\"heyyyyyy : \", new_dict)\n",
    "    for i in keys:\n",
    "        if i in new_dict:\n",
    "            new_dict = new_dict[i]\n",
    "             print(new_dict)\n",
    "        else : return none\n",
    "    \n",
    "    return new_dict\n",
    "\n",
    "dic = {\n",
    "    'a': {\n",
    "        'b': {\n",
    "            'c': 42\n",
    "        }\n",
    "    }\n",
    "}\n",
    "keys = ['a', 'b', 'c']\n",
    "result = nested(dic, keys)\n",
    "print(f\"the result  of {keys} is : \", result)\n",
    "\n"
   ]
  },
  {
   "cell_type": "code",
   "execution_count": 25,
   "id": "29dcc386-4310-49ff-acdc-4aeb17d25e2e",
   "metadata": {},
   "outputs": [
    {
     "name": "stdout",
     "output_type": "stream",
     "text": [
      "Ascending :  {'b': 1, 'd': 2, 'a': 3, 'c': 4}\n",
      "Descending :  {'c': 4, 'a': 3, 'd': 2, 'b': 1}\n"
     ]
    }
   ],
   "source": [
    "# write a code that takes a dictionary as input and return a sorted version of it based on the values. you can choose whether to sort in ascending or descending order\n",
    "\n",
    "def sorting(dic, boolean=False):\n",
    "    \n",
    "    sort = sorted(dic.items(), key=lambda x:x[1], reverse=boolean)\n",
    "    \n",
    "    sorted_dic = dict(sort)\n",
    "    \n",
    "    return sorted_dic\n",
    "\n",
    "dic = {'a': 3, 'b': 1, 'd': 2, 'c':4}\n",
    "\n",
    "ascending_dict = sorting(dic)\n",
    "descending_dict = sorting(dic, boolean=True)\n",
    "\n",
    "print(\"Ascending : \",ascending_dict)\n",
    "print(\"Descending : \",descending_dict)"
   ]
  },
  {
   "cell_type": "code",
   "execution_count": 17,
   "id": "61743f7c-6bb2-4467-98ce-4a6c3384a44f",
   "metadata": {},
   "outputs": [
    {
     "name": "stdout",
     "output_type": "stream",
     "text": [
      "{'a': 1, 'b': 2, 'c': 1, 'd': 3, 'e': 2}\n",
      "{1: ['a', 'c'], 2: ['b', 'e'], 3: ['d']}\n"
     ]
    }
   ],
   "source": [
    "# write a code that inverts a dictionary, swapping keys and values. ensure that the invertd dictionary correctly handels cases where multiple keys have the same value by storing the keys as a list in the nverted dictionary\n",
    "def swaping(dic):\n",
    "    \n",
    "    new_dic = {}\n",
    "\n",
    "    for key, value in dic.items():\n",
    "        if value in new_dic:\n",
    "            new_dic[value].append(key) \n",
    "        else: new_dic[value] = [key]\n",
    "\n",
    "    return new_dic    \n",
    "\n",
    "dic = {'a': 1, 'b': 2, 'c': 1, 'd': 3, 'e': 2}\n",
    "result = swaping(dic)\n",
    "print(dic)\n",
    "print(result)"
   ]
  },
  {
   "cell_type": "code",
   "execution_count": null,
   "id": "dbc02eff-3ed0-445d-8e33-4fa01b9e565f",
   "metadata": {},
   "outputs": [],
   "source": []
  },
  {
   "cell_type": "code",
   "execution_count": null,
   "id": "d9d6051b-8605-4ea3-ab91-a330436f6185",
   "metadata": {},
   "outputs": [],
   "source": []
  },
  {
   "cell_type": "code",
   "execution_count": null,
   "id": "4f37f19b-3c29-428f-be92-c786d462083f",
   "metadata": {},
   "outputs": [],
   "source": []
  },
  {
   "cell_type": "code",
   "execution_count": null,
   "id": "12c31515-abbf-41f9-9394-a5869f6f65b0",
   "metadata": {},
   "outputs": [],
   "source": []
  }
 ],
 "metadata": {
  "kernelspec": {
   "display_name": "Python 3 (ipykernel)",
   "language": "python",
   "name": "python3"
  },
  "language_info": {
   "codemirror_mode": {
    "name": "ipython",
    "version": 3
   },
   "file_extension": ".py",
   "mimetype": "text/x-python",
   "name": "python",
   "nbconvert_exporter": "python",
   "pygments_lexer": "ipython3",
   "version": "3.10.8"
  }
 },
 "nbformat": 4,
 "nbformat_minor": 5
}
